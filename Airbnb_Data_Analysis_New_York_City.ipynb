{
  "nbformat": 4,
  "nbformat_minor": 0,
  "metadata": {
    "colab": {
      "name": "Airbnb Data Analysis - New York City.ipynb",
      "provenance": [],
      "collapsed_sections": [],
      "include_colab_link": true
    },
    "kernelspec": {
      "name": "python3",
      "display_name": "Python 3"
    }
  },
  "cells": [
    {
      "cell_type": "markdown",
      "metadata": {
        "id": "view-in-github",
        "colab_type": "text"
      },
      "source": [
        "<a href=\"https://colab.research.google.com/github/rafaelnduarte/Airbnb_Data_Analysis_NYC/blob/master/Airbnb_Data_Analysis_New_York_City.ipynb\" target=\"_parent\"><img src=\"https://colab.research.google.com/assets/colab-badge.svg\" alt=\"Open In Colab\"/></a>"
      ]
    },
    {
      "cell_type": "markdown",
      "metadata": {
        "id": "kLI0gJtzDGuQ",
        "colab_type": "text"
      },
      "source": [
        "<center><img src=\"http://sigmoidal.ai/wp-content/uploads/2019/08/logo_color.png\" height=\"40px\"></center>\n",
        "\n",
        "# Airbnb Data Analysis - New York City\n",
        "\n",
        "[Airbnb](https://www.airbnb.com.br/) is an online marketplace that connects people who want to rent out their homes with people who are looking for accommodations in that locale. It currently covers more than 81,000 cities and 191 countries worldwide.\n",
        "\n",
        "Airbnb is the largest peer-to-peer exchange service for hospitality around the world. By 2018, the startup founded 10 years ago had already hosted ***over 300 million*** guests.\n",
        "\n",
        "It's possible to acquire and analyze data from Airbnb, made available by them at [Inside Airbnb](http://insideairbnb.com/get-the-data.html). It's a great source of data to be used in *Data Science* projects.\n",
        "\n",
        "\n",
        "### **In this *notebook*, we'll analyze the data on New York City, and see what insights we can get from it.**"
      ]
    },
    {
      "cell_type": "markdown",
      "metadata": {
        "id": "W6mNuTWdmQ3F",
        "colab_type": "text"
      },
      "source": [
        "# A little bit more on New York City\n",
        "<center><img alt=\"New York City\" width=\"40%\" src=\"https://image.freepik.com/free-vector/future-metropolis-downtown-modern-city-business-center-cartoon-background_33099-1466.jpg\"></center>\n",
        "\n",
        "\n",
        "**New York City** is one of the biggest and most famous cities in the world, being one of the favorite destinations for tourists from all over the world. According to [Forbes](https://www.forbes.com/sites/alexandratalty/2019/09/04/bangkok-is-the-most-visited-city-in-the-world-again/#70ab71295f1b), New York City is currently the 7th most visited city in the world, and the most visited city in the Americas, receiving over **13.6 million** global travelers in the last year.\n",
        "\n",
        "\n",
        "\n",
        "The *Big Apple* is Airbnb’s **largest domestic market**, but under state law, it is illegal in most buildings for an apartment to be rented out for **less than 30 days** unless the permanent tenant is **residing** in the apartment at the same time.\n",
        "\n",
        "\n",
        "\n",
        "With all that in mind, it should be interesting to analyze the data, and see how this environment can affect Airbnb's performance in New York City.\n",
        "\n",
        "\n",
        "\n",
        "Here you can check out more information on [Airbnb's Legal Battles](https://www.cityandstateny.com/articles/policy/technology/airbnbs-new-york-city-legal-battles.html) in New York City.\n",
        "\n"
      ]
    },
    {
      "cell_type": "markdown",
      "metadata": {
        "id": "0zxQHhIUDF_2",
        "colab_type": "text"
      },
      "source": [
        "## Obtaining the Data\n"
      ]
    },
    {
      "cell_type": "code",
      "metadata": {
        "id": "Vhp2wMPgJ6zX",
        "colab_type": "code",
        "colab": {}
      },
      "source": [
        "# importing the necessary packages\n",
        "import pandas as pd\n",
        "import matplotlib.pyplot as plt\n",
        "import seaborn as sns\n",
        "\n",
        "%matplotlib inline"
      ],
      "execution_count": 0,
      "outputs": []
    },
    {
      "cell_type": "code",
      "metadata": {
        "id": "tUmoAT8DLQ5T",
        "colab_type": "code",
        "colab": {}
      },
      "source": [
        "# importing the data into a DataFrame\n",
        "df = pd.read_csv(\"http://data.insideairbnb.com/united-states/ny/new-york-city/2019-08-06/visualisations/listings.csv\")"
      ],
      "execution_count": 0,
      "outputs": []
    },
    {
      "cell_type": "markdown",
      "metadata": {
        "id": "qb5By2nIMS6m",
        "colab_type": "text"
      },
      "source": [
        "## Analyzing the Data\n"
      ]
    },
    {
      "cell_type": "markdown",
      "metadata": {
        "id": "RYgvuebKNg8-",
        "colab_type": "text"
      },
      "source": [
        "### The objective of this step is to understand the structure of the dataset\n",
        "\n",
        "**Variable Dictionary**\n",
        "\n",
        "* id - Listing identification number\n",
        "* name - Listing name \n",
        "* host_id - Host identification number\n",
        "* host_name - Host name\n",
        "* neighbourhood_group - Borough name\n",
        "* neighbourhood - Neighborhood name\n",
        "* latitude - Latitude of the listing\n",
        "* longitude  - Longitude of the listing\n",
        "* room_type - Room type\n",
        "* price - Price in dollars\n",
        "* minimum_nights - Minimum number of nights to book the listing\n",
        "* number_of_reviews - Number of reviews the listing received\n",
        "* last_review - Date of the last review\n",
        "* reviews_per_month - Number of reviews per month\n",
        "* calculated_host_listings_count - Number of listings by the host\n",
        "* availability_365 - Number of available days in a 365 days period\n",
        " \n",
        " \n",
        " \n",
        "Before analyzing anything, let's see the \"face\"of our dataset, analyzing the first 5 entries."
      ]
    },
    {
      "cell_type": "code",
      "metadata": {
        "id": "2iS_dae7YQtO",
        "colab_type": "code",
        "outputId": "bc98fa95-e0c4-46cf-805e-4a2b8ed2c993",
        "colab": {
          "base_uri": "https://localhost:8080/",
          "height": 413
        }
      },
      "source": [
        "# show the first 5 entries\n",
        "df.head()"
      ],
      "execution_count": 0,
      "outputs": [
        {
          "output_type": "execute_result",
          "data": {
            "text/html": [
              "<div>\n",
              "<style scoped>\n",
              "    .dataframe tbody tr th:only-of-type {\n",
              "        vertical-align: middle;\n",
              "    }\n",
              "\n",
              "    .dataframe tbody tr th {\n",
              "        vertical-align: top;\n",
              "    }\n",
              "\n",
              "    .dataframe thead th {\n",
              "        text-align: right;\n",
              "    }\n",
              "</style>\n",
              "<table border=\"1\" class=\"dataframe\">\n",
              "  <thead>\n",
              "    <tr style=\"text-align: right;\">\n",
              "      <th></th>\n",
              "      <th>id</th>\n",
              "      <th>name</th>\n",
              "      <th>host_id</th>\n",
              "      <th>host_name</th>\n",
              "      <th>neighbourhood_group</th>\n",
              "      <th>neighbourhood</th>\n",
              "      <th>latitude</th>\n",
              "      <th>longitude</th>\n",
              "      <th>room_type</th>\n",
              "      <th>price</th>\n",
              "      <th>minimum_nights</th>\n",
              "      <th>number_of_reviews</th>\n",
              "      <th>last_review</th>\n",
              "      <th>reviews_per_month</th>\n",
              "      <th>calculated_host_listings_count</th>\n",
              "      <th>availability_365</th>\n",
              "    </tr>\n",
              "  </thead>\n",
              "  <tbody>\n",
              "    <tr>\n",
              "      <th>0</th>\n",
              "      <td>2595</td>\n",
              "      <td>Skylit Midtown Castle</td>\n",
              "      <td>2845</td>\n",
              "      <td>Jennifer</td>\n",
              "      <td>Manhattan</td>\n",
              "      <td>Midtown</td>\n",
              "      <td>40.75362</td>\n",
              "      <td>-73.98377</td>\n",
              "      <td>Entire home/apt</td>\n",
              "      <td>225</td>\n",
              "      <td>1</td>\n",
              "      <td>46</td>\n",
              "      <td>2019-07-14</td>\n",
              "      <td>0.39</td>\n",
              "      <td>2</td>\n",
              "      <td>288</td>\n",
              "    </tr>\n",
              "    <tr>\n",
              "      <th>1</th>\n",
              "      <td>3647</td>\n",
              "      <td>THE VILLAGE OF HARLEM....NEW YORK !</td>\n",
              "      <td>4632</td>\n",
              "      <td>Elisabeth</td>\n",
              "      <td>Manhattan</td>\n",
              "      <td>Harlem</td>\n",
              "      <td>40.80902</td>\n",
              "      <td>-73.94190</td>\n",
              "      <td>Private room</td>\n",
              "      <td>150</td>\n",
              "      <td>3</td>\n",
              "      <td>0</td>\n",
              "      <td>NaN</td>\n",
              "      <td>NaN</td>\n",
              "      <td>1</td>\n",
              "      <td>365</td>\n",
              "    </tr>\n",
              "    <tr>\n",
              "      <th>2</th>\n",
              "      <td>3831</td>\n",
              "      <td>Cozy Entire Floor of Brownstone</td>\n",
              "      <td>4869</td>\n",
              "      <td>LisaRoxanne</td>\n",
              "      <td>Brooklyn</td>\n",
              "      <td>Clinton Hill</td>\n",
              "      <td>40.68514</td>\n",
              "      <td>-73.95976</td>\n",
              "      <td>Entire home/apt</td>\n",
              "      <td>89</td>\n",
              "      <td>1</td>\n",
              "      <td>274</td>\n",
              "      <td>2019-07-26</td>\n",
              "      <td>4.64</td>\n",
              "      <td>1</td>\n",
              "      <td>212</td>\n",
              "    </tr>\n",
              "    <tr>\n",
              "      <th>3</th>\n",
              "      <td>5022</td>\n",
              "      <td>Entire Apt: Spacious Studio/Loft by central park</td>\n",
              "      <td>7192</td>\n",
              "      <td>Laura</td>\n",
              "      <td>Manhattan</td>\n",
              "      <td>East Harlem</td>\n",
              "      <td>40.79851</td>\n",
              "      <td>-73.94399</td>\n",
              "      <td>Entire home/apt</td>\n",
              "      <td>80</td>\n",
              "      <td>10</td>\n",
              "      <td>9</td>\n",
              "      <td>2018-11-19</td>\n",
              "      <td>0.10</td>\n",
              "      <td>1</td>\n",
              "      <td>0</td>\n",
              "    </tr>\n",
              "    <tr>\n",
              "      <th>4</th>\n",
              "      <td>5099</td>\n",
              "      <td>Large Cozy 1 BR Apartment In Midtown East</td>\n",
              "      <td>7322</td>\n",
              "      <td>Chris</td>\n",
              "      <td>Manhattan</td>\n",
              "      <td>Murray Hill</td>\n",
              "      <td>40.74767</td>\n",
              "      <td>-73.97500</td>\n",
              "      <td>Entire home/apt</td>\n",
              "      <td>200</td>\n",
              "      <td>3</td>\n",
              "      <td>75</td>\n",
              "      <td>2019-07-21</td>\n",
              "      <td>0.60</td>\n",
              "      <td>1</td>\n",
              "      <td>127</td>\n",
              "    </tr>\n",
              "  </tbody>\n",
              "</table>\n",
              "</div>"
            ],
            "text/plain": [
              "     id  ... availability_365\n",
              "0  2595  ...              288\n",
              "1  3647  ...              365\n",
              "2  3831  ...              212\n",
              "3  5022  ...                0\n",
              "4  5099  ...              127\n",
              "\n",
              "[5 rows x 16 columns]"
            ]
          },
          "metadata": {
            "tags": []
          },
          "execution_count": 3
        }
      ]
    },
    {
      "cell_type": "markdown",
      "metadata": {
        "id": "6-B_qtEaYEd-",
        "colab_type": "text"
      },
      "source": [
        "### **Q1. How many atributes (variables) and entries are there in our dataset? What are the types of the variables?**\n",
        "\n",
        "Since this is a summarized version of the data, we don't have as many variables as Airbnb actually collects.\n",
        "\n",
        "For a more complete version of this dataset, visit [Inside Airbnb](http://data.insideairbnb.com/united-states/ny/new-york-city/2019-08-06/data/listings.csv.gz)."
      ]
    },
    {
      "cell_type": "code",
      "metadata": {
        "id": "TFRK0tniLV-G",
        "colab_type": "code",
        "outputId": "9c4e09da-d18b-4d12-9ece-781635578dbf",
        "colab": {
          "base_uri": "https://localhost:8080/",
          "height": 364
        }
      },
      "source": [
        "# identifying the volume of the data in the DataFrame\n",
        "print(\"Variables:\\t {}\".format(df.shape[1]))\n",
        "print(\"Entries:\\t {}\\n\".format(df.shape[0]))\n",
        "\n",
        "\n",
        "# identifying the types of the variables\n",
        "display(df.dtypes)"
      ],
      "execution_count": 0,
      "outputs": [
        {
          "output_type": "stream",
          "text": [
            "Variables:\t 16\n",
            "Entries:\t 48864\n",
            "\n"
          ],
          "name": "stdout"
        },
        {
          "output_type": "display_data",
          "data": {
            "text/plain": [
              "id                                  int64\n",
              "name                               object\n",
              "host_id                             int64\n",
              "host_name                          object\n",
              "neighbourhood_group                object\n",
              "neighbourhood                      object\n",
              "latitude                          float64\n",
              "longitude                         float64\n",
              "room_type                          object\n",
              "price                               int64\n",
              "minimum_nights                      int64\n",
              "number_of_reviews                   int64\n",
              "last_review                        object\n",
              "reviews_per_month                 float64\n",
              "calculated_host_listings_count      int64\n",
              "availability_365                    int64\n",
              "dtype: object"
            ]
          },
          "metadata": {
            "tags": []
          }
        }
      ]
    },
    {
      "cell_type": "markdown",
      "metadata": {
        "id": "yz1urSUGW9iE",
        "colab_type": "text"
      },
      "source": [
        "### Q2. What's the percentage of missing values in the dataset?\n",
        "\n",
        "As we can see below, the percentage of missing values is quite low, with most of the variables not having any missing values.\n",
        "\n",
        "* [reviews_per_month] and [last_review] had the biggest percentages of missing values at 20.7% (10131)\n",
        "* [host_name] and [name] were the only other variables with missing values. However, their percentages are extremely low, at around 0.03% (18 and 16, respectively) "
      ]
    },
    {
      "cell_type": "code",
      "metadata": {
        "id": "plk2FjbCXOqP",
        "colab_type": "code",
        "outputId": "8416ddd8-6768-4241-aa81-c22e9ebf02eb",
        "colab": {
          "base_uri": "https://localhost:8080/",
          "height": 312
        }
      },
      "source": [
        "# sort variables by missing values\n",
        "(df.isnull().sum()/ df.shape[0]).sort_values(ascending=False)"
      ],
      "execution_count": 0,
      "outputs": [
        {
          "output_type": "execute_result",
          "data": {
            "text/plain": [
              "reviews_per_month                 0.207331\n",
              "last_review                       0.207331\n",
              "host_name                         0.000368\n",
              "name                              0.000327\n",
              "availability_365                  0.000000\n",
              "calculated_host_listings_count    0.000000\n",
              "number_of_reviews                 0.000000\n",
              "minimum_nights                    0.000000\n",
              "price                             0.000000\n",
              "room_type                         0.000000\n",
              "longitude                         0.000000\n",
              "latitude                          0.000000\n",
              "neighbourhood                     0.000000\n",
              "neighbourhood_group               0.000000\n",
              "host_id                           0.000000\n",
              "id                                0.000000\n",
              "dtype: float64"
            ]
          },
          "metadata": {
            "tags": []
          },
          "execution_count": 5
        }
      ]
    },
    {
      "cell_type": "code",
      "metadata": {
        "id": "7rb9RAeilOph",
        "colab_type": "code",
        "outputId": "84c24ac9-341f-45a5-ab8e-c61b630ce143",
        "colab": {
          "base_uri": "https://localhost:8080/",
          "height": 312
        }
      },
      "source": [
        "# checking the actual number of missing values\n",
        "(df.isnull().sum()).sort_values(ascending=False)"
      ],
      "execution_count": 0,
      "outputs": [
        {
          "output_type": "execute_result",
          "data": {
            "text/plain": [
              "reviews_per_month                 10131\n",
              "last_review                       10131\n",
              "host_name                            18\n",
              "name                                 16\n",
              "availability_365                      0\n",
              "calculated_host_listings_count        0\n",
              "number_of_reviews                     0\n",
              "minimum_nights                        0\n",
              "price                                 0\n",
              "room_type                             0\n",
              "longitude                             0\n",
              "latitude                              0\n",
              "neighbourhood                         0\n",
              "neighbourhood_group                   0\n",
              "host_id                               0\n",
              "id                                    0\n",
              "dtype: int64"
            ]
          },
          "metadata": {
            "tags": []
          },
          "execution_count": 6
        }
      ]
    },
    {
      "cell_type": "markdown",
      "metadata": {
        "id": "iHXvvHIxaoNc",
        "colab_type": "text"
      },
      "source": [
        "### **Q3. What is the statistical distribution of the data?** \n",
        "\n",
        "To help us understand the distribution of the data, let's plot histograms:"
      ]
    },
    {
      "cell_type": "code",
      "metadata": {
        "id": "q2wWSfeRbmBo",
        "colab_type": "code",
        "outputId": "0bdb675c-69a5-4e87-816d-ad49bd1f2805",
        "colab": {
          "base_uri": "https://localhost:8080/",
          "height": 607
        }
      },
      "source": [
        "# plotar o histograma das variáveis numéricas\n",
        "df.hist(bins=15, figsize=(15,10));"
      ],
      "execution_count": 0,
      "outputs": [
        {
          "output_type": "display_data",
          "data": {
            "image/png": "[encoded data removed]",
            "text/plain": [
              "<Figure size 1080x720 with 12 Axes>"
            ]
          },
          "metadata": {
            "tags": []
          }
        }
      ]
    },
    {
      "cell_type": "markdown",
      "metadata": {
        "id": "Y-2CbAtMngL1",
        "colab_type": "text"
      },
      "source": [
        "## Q4. Are there any outliers?\n",
        "\n",
        "We could see in the histograms above that the variables [calculated_host_linstings_count], [minimum_nights], [number_of_reviews], [price] and [reviews_per_month] have outliers.\n",
        "\n",
        "To better understand this data, let's do the following:\n",
        "* Statistical summary of the variables using describe()\n",
        "* Plot boxplots for the vairables"
      ]
    },
    {
      "cell_type": "code",
      "metadata": {
        "id": "1tNpZ4TYnfxK",
        "colab_type": "code",
        "outputId": "0159db32-7bbf-4e5b-e201-6c6bfcf62d7f",
        "colab": {
          "base_uri": "https://localhost:8080/",
          "height": 294
        }
      },
      "source": [
        "# Statistical summary of the variables\n",
        "df[['calculated_host_listings_count','minimum_nights', 'number_of_reviews', 'price', 'reviews_per_month']].describe()"
      ],
      "execution_count": 0,
      "outputs": [
        {
          "output_type": "execute_result",
          "data": {
            "text/html": [
              "<div>\n",
              "<style scoped>\n",
              "    .dataframe tbody tr th:only-of-type {\n",
              "        vertical-align: middle;\n",
              "    }\n",
              "\n",
              "    .dataframe tbody tr th {\n",
              "        vertical-align: top;\n",
              "    }\n",
              "\n",
              "    .dataframe thead th {\n",
              "        text-align: right;\n",
              "    }\n",
              "</style>\n",
              "<table border=\"1\" class=\"dataframe\">\n",
              "  <thead>\n",
              "    <tr style=\"text-align: right;\">\n",
              "      <th></th>\n",
              "      <th>calculated_host_listings_count</th>\n",
              "      <th>minimum_nights</th>\n",
              "      <th>number_of_reviews</th>\n",
              "      <th>price</th>\n",
              "      <th>reviews_per_month</th>\n",
              "    </tr>\n",
              "  </thead>\n",
              "  <tbody>\n",
              "    <tr>\n",
              "      <th>count</th>\n",
              "      <td>48864.000000</td>\n",
              "      <td>48864.000000</td>\n",
              "      <td>48864.000000</td>\n",
              "      <td>48864.000000</td>\n",
              "      <td>38733.000000</td>\n",
              "    </tr>\n",
              "    <tr>\n",
              "      <th>mean</th>\n",
              "      <td>7.438278</td>\n",
              "      <td>7.093116</td>\n",
              "      <td>23.392191</td>\n",
              "      <td>151.453176</td>\n",
              "      <td>1.365694</td>\n",
              "    </tr>\n",
              "    <tr>\n",
              "      <th>std</th>\n",
              "      <td>34.949053</td>\n",
              "      <td>20.264170</td>\n",
              "      <td>44.939690</td>\n",
              "      <td>236.585525</td>\n",
              "      <td>1.692891</td>\n",
              "    </tr>\n",
              "    <tr>\n",
              "      <th>min</th>\n",
              "      <td>1.000000</td>\n",
              "      <td>1.000000</td>\n",
              "      <td>0.000000</td>\n",
              "      <td>0.000000</td>\n",
              "      <td>0.010000</td>\n",
              "    </tr>\n",
              "    <tr>\n",
              "      <th>25%</th>\n",
              "      <td>1.000000</td>\n",
              "      <td>1.000000</td>\n",
              "      <td>1.000000</td>\n",
              "      <td>69.000000</td>\n",
              "      <td>0.190000</td>\n",
              "    </tr>\n",
              "    <tr>\n",
              "      <th>50%</th>\n",
              "      <td>1.000000</td>\n",
              "      <td>2.000000</td>\n",
              "      <td>5.000000</td>\n",
              "      <td>105.000000</td>\n",
              "      <td>0.710000</td>\n",
              "    </tr>\n",
              "    <tr>\n",
              "      <th>75%</th>\n",
              "      <td>2.000000</td>\n",
              "      <td>5.000000</td>\n",
              "      <td>24.000000</td>\n",
              "      <td>175.000000</td>\n",
              "      <td>2.000000</td>\n",
              "    </tr>\n",
              "    <tr>\n",
              "      <th>max</th>\n",
              "      <td>343.000000</td>\n",
              "      <td>1250.000000</td>\n",
              "      <td>639.000000</td>\n",
              "      <td>10000.000000</td>\n",
              "      <td>66.610000</td>\n",
              "    </tr>\n",
              "  </tbody>\n",
              "</table>\n",
              "</div>"
            ],
            "text/plain": [
              "       calculated_host_listings_count  ...  reviews_per_month\n",
              "count                    48864.000000  ...       38733.000000\n",
              "mean                         7.438278  ...           1.365694\n",
              "std                         34.949053  ...           1.692891\n",
              "min                          1.000000  ...           0.010000\n",
              "25%                          1.000000  ...           0.190000\n",
              "50%                          1.000000  ...           0.710000\n",
              "75%                          2.000000  ...           2.000000\n",
              "max                        343.000000  ...          66.610000\n",
              "\n",
              "[8 rows x 5 columns]"
            ]
          },
          "metadata": {
            "tags": []
          },
          "execution_count": 8
        }
      ]
    },
    {
      "cell_type": "markdown",
      "metadata": {
        "id": "NqX1YIKo7KK5",
        "colab_type": "text"
      },
      "source": [
        "Looking at this summary, we can come to some conclusions:\n",
        "* The variable [minimum_nights] at its max is way over the real limit (365 days)\n",
        "* The 75% values of all of the analyzed variables are a lot lower than the max for each variable"
      ]
    },
    {
      "cell_type": "code",
      "metadata": {
        "id": "eIaY8eFb6-zE",
        "colab_type": "code",
        "outputId": "565731be-8e72-4fac-b8fd-0c91fec5d6b2",
        "colab": {
          "base_uri": "https://localhost:8080/",
          "height": 266
        }
      },
      "source": [
        "# boxplot for calculated_host_listings_count\n",
        "\n",
        "df.calculated_host_listings_count.plot(kind='box', vert=False, figsize=(15, 3))\n",
        "plt.show()\n",
        "\n",
        "# check entries over 10 for host listings\n",
        "print(\"calculated_host_listings_count: entries over 10:\")\n",
        "print(\"{} entries\".format(len(df[df.calculated_host_listings_count > 10])))\n",
        "print(\"{:.4f}%\".format((len(df[df.calculated_host_listings_count > 10]) / df.shape[0])*100))\n"
      ],
      "execution_count": 0,
      "outputs": [
        {
          "output_type": "display_data",
          "data": {
            "image/png": "[encoded data removed]",
            "text/plain": [
              "<Figure size 1080x216 with 1 Axes>"
            ]
          },
          "metadata": {
            "tags": []
          }
        },
        {
          "output_type": "stream",
          "text": [
            "calculated_host_listings_count: entries over 10:\n",
            "2948 entries\n",
            "6.0331%\n"
          ],
          "name": "stdout"
        }
      ]
    },
    {
      "cell_type": "code",
      "metadata": {
        "id": "eA_xNmjK_I-t",
        "colab_type": "code",
        "outputId": "67c46320-f64c-4ce8-c11c-0e19d4c5126f",
        "colab": {
          "base_uri": "https://localhost:8080/",
          "height": 266
        }
      },
      "source": [
        "# boxplot for minimum_nights\n",
        "\n",
        "df.minimum_nights.plot(kind='box', vert=False, figsize=(15, 3))\n",
        "plt.show()\n",
        "\n",
        "# check entries over 30 for minimum_nights\n",
        "print(\"minimum_nights: entries over 30:\")\n",
        "print(\"{} entries\".format(len(df[df.minimum_nights > 30])))\n",
        "print(\"{:.4f}%\".format((len(df[df.minimum_nights > 30]) / df.shape[0])*100))\n"
      ],
      "execution_count": 0,
      "outputs": [
        {
          "output_type": "display_data",
          "data": {
            "image/png": "[encoded data removed]",
            "text/plain": [
              "<Figure size 1080x216 with 1 Axes>"
            ]
          },
          "metadata": {
            "tags": []
          }
        },
        {
          "output_type": "stream",
          "text": [
            "minimum_nights: entries over 30:\n",
            "746 entries\n",
            "1.5267%\n"
          ],
          "name": "stdout"
        }
      ]
    },
    {
      "cell_type": "code",
      "metadata": {
        "id": "8FKlAhWq_znW",
        "colab_type": "code",
        "outputId": "f9a087e0-d31d-4cc0-dcde-fa8a258a1d66",
        "colab": {
          "base_uri": "https://localhost:8080/",
          "height": 266
        }
      },
      "source": [
        "# boxplot for number_of_reviews\n",
        "\n",
        "df.number_of_reviews.plot(kind='box', vert=False, figsize=(15, 3))\n",
        "plt.show()\n",
        "\n",
        "# check entries over 150 for number_of_reviews\n",
        "print(\"number_of_reviews: entries over 150:\")\n",
        "print(\"{} entries\".format(len(df[df.number_of_reviews > 150])))\n",
        "print(\"{:.4f}%\".format((len(df[df.number_of_reviews > 150]) / df.shape[0])*100))\n"
      ],
      "execution_count": 0,
      "outputs": [
        {
          "output_type": "display_data",
          "data": {
            "image/png": "[encoded data removed]",
            "text/plain": [
              "<Figure size 1080x216 with 1 Axes>"
            ]
          },
          "metadata": {
            "tags": []
          }
        },
        {
          "output_type": "stream",
          "text": [
            "number_of_reviews: entries over 150:\n",
            "1354 entries\n",
            "2.7710%\n"
          ],
          "name": "stdout"
        }
      ]
    },
    {
      "cell_type": "code",
      "metadata": {
        "id": "-PhDbVC-cwRm",
        "colab_type": "code",
        "outputId": "8fb7177d-5da6-4620-d8dc-ab4f86fb1c44",
        "colab": {
          "base_uri": "https://localhost:8080/",
          "height": 266
        }
      },
      "source": [
        "# boxplot for price\n",
        "\n",
        "df.price.plot(kind='box', vert=False, figsize=(15, 3))\n",
        "plt.show()\n",
        "\n",
        "# check entries over price over 450\n",
        "print(\"price: entries over 450:\")\n",
        "print(\"{} entries\".format(len(df[df.price > 450])))\n",
        "print(\"{:.4f}%\".format((len(df[df.price > 450]) / df.shape[0])*100))"
      ],
      "execution_count": 0,
      "outputs": [
        {
          "output_type": "display_data",
          "data": {
            "image/png": "[encoded data removed]",
            "text/plain": [
              "<Figure size 1080x216 with 1 Axes>"
            ]
          },
          "metadata": {
            "tags": []
          }
        },
        {
          "output_type": "stream",
          "text": [
            "price: entries over 450:\n",
            "1355 entries\n",
            "2.7730%\n"
          ],
          "name": "stdout"
        }
      ]
    },
    {
      "cell_type": "code",
      "metadata": {
        "id": "1jVvHyF1dcMt",
        "colab_type": "code",
        "outputId": "0ba259ae-f6d9-4f2a-bb60-9d1099b6bdc5",
        "colab": {
          "base_uri": "https://localhost:8080/",
          "height": 266
        }
      },
      "source": [
        "# boxplot for reviews_per_month\n",
        "\n",
        "df.reviews_per_month.plot(kind='box', vert=False, figsize=(15, 3))\n",
        "plt.show()\n",
        "\n",
        "# check entries over 25 for reviews_per_month\n",
        "print(\"reviews_per_month: entries over 25:\")\n",
        "print(\"{} entries\".format(len(df[df.reviews_per_month > 10])))\n",
        "print(\"{:.4f}%\".format((len(df[df.reviews_per_month > 10]) / df.shape[0])*100))"
      ],
      "execution_count": 0,
      "outputs": [
        {
          "output_type": "display_data",
          "data": {
            "image/png": "[encoded data removed]",
            "text/plain": [
              "<Figure size 1080x216 with 1 Axes>"
            ]
          },
          "metadata": {
            "tags": []
          }
        },
        {
          "output_type": "stream",
          "text": [
            "reviews_per_month: entries over 25:\n",
            "74 entries\n",
            "0.1514%\n"
          ],
          "name": "stdout"
        }
      ]
    },
    {
      "cell_type": "markdown",
      "metadata": {
        "id": "yTLAQF9jeaQ3",
        "colab_type": "text"
      },
      "source": [
        "#### Histograms without the outliers\n",
        "\n",
        "Now that we have identified the outliers in our variables, let's clean the DataFrame and plot histograms again."
      ]
    },
    {
      "cell_type": "code",
      "metadata": {
        "id": "pzRY5_TWeYhO",
        "colab_type": "code",
        "outputId": "2bb632f9-78e3-4caa-ab2e-1d1a17c86541",
        "colab": {
          "base_uri": "https://localhost:8080/",
          "height": 607
        }
      },
      "source": [
        "# removing the outliers from the DataFrame, creating a new DataFrame\n",
        "df_clean = df.copy()\n",
        "df_clean.drop(df_clean[df_clean.calculated_host_listings_count > 10].index, axis=0, inplace=True)\n",
        "df_clean.drop(df_clean[df_clean.minimum_nights > 30].index, axis=0, inplace=True)\n",
        "df_clean.drop(df_clean[df_clean.number_of_reviews > 150].index, axis=0, inplace=True)\n",
        "df_clean.drop(df_clean[df_clean.price > 450].index, axis=0, inplace=True)\n",
        "df_clean.drop(df_clean[df_clean.reviews_per_month > 10].index, axis=0, inplace=True)\n",
        "\n",
        "\n",
        "# plotting histograms for numerical values\n",
        "df_clean.hist(bins=15, figsize=(15,10));"
      ],
      "execution_count": 0,
      "outputs": [
        {
          "output_type": "display_data",
          "data": {
            "image/png": "[encoded data removed]",
            "text/plain": [
              "<Figure size 1080x720 with 12 Axes>"
            ]
          },
          "metadata": {
            "tags": []
          }
        }
      ]
    },
    {
      "cell_type": "markdown",
      "metadata": {
        "id": "IXn2oIo5qx-w",
        "colab_type": "text"
      },
      "source": [
        "### **Q4. Correlation between the variables**\n",
        "\n",
        "Correlation means there is a relationship between two things. For us, that means there is a relationship or similarity between two variables.\n",
        "\n",
        "This relationship can be measured, and the coefficient of correlation will ascertain its intensity. To identify the correlations between the variables we're interested in, let's:\n",
        "\n",
        "* Create a Correlation Matrix\n",
        "* Create a *heatmap* from the matrix, using the seaborn library"
      ]
    },
    {
      "cell_type": "code",
      "metadata": {
        "id": "x2ayzBajqxyd",
        "colab_type": "code",
        "outputId": "5f9acc60-eb07-49a0-9f51-84e160ba7b70",
        "colab": {
          "base_uri": "https://localhost:8080/",
          "height": 233
        }
      },
      "source": [
        "# creating a correlation matrix\n",
        "corr = df_clean[['price', 'minimum_nights', 'number_of_reviews', 'reviews_per_month',\n",
        "    'calculated_host_listings_count', 'availability_365']].corr()\n",
        "\n",
        "# showing the correlation matrix\n",
        "display(corr)"
      ],
      "execution_count": 0,
      "outputs": [
        {
          "output_type": "display_data",
          "data": {
            "text/html": [
              "<div>\n",
              "<style scoped>\n",
              "    .dataframe tbody tr th:only-of-type {\n",
              "        vertical-align: middle;\n",
              "    }\n",
              "\n",
              "    .dataframe tbody tr th {\n",
              "        vertical-align: top;\n",
              "    }\n",
              "\n",
              "    .dataframe thead th {\n",
              "        text-align: right;\n",
              "    }\n",
              "</style>\n",
              "<table border=\"1\" class=\"dataframe\">\n",
              "  <thead>\n",
              "    <tr style=\"text-align: right;\">\n",
              "      <th></th>\n",
              "      <th>price</th>\n",
              "      <th>minimum_nights</th>\n",
              "      <th>number_of_reviews</th>\n",
              "      <th>reviews_per_month</th>\n",
              "      <th>calculated_host_listings_count</th>\n",
              "      <th>availability_365</th>\n",
              "    </tr>\n",
              "  </thead>\n",
              "  <tbody>\n",
              "    <tr>\n",
              "      <th>price</th>\n",
              "      <td>1.000000</td>\n",
              "      <td>-0.004278</td>\n",
              "      <td>-0.022221</td>\n",
              "      <td>-0.016941</td>\n",
              "      <td>-0.123816</td>\n",
              "      <td>0.044176</td>\n",
              "    </tr>\n",
              "    <tr>\n",
              "      <th>minimum_nights</th>\n",
              "      <td>-0.004278</td>\n",
              "      <td>1.000000</td>\n",
              "      <td>-0.110140</td>\n",
              "      <td>-0.189379</td>\n",
              "      <td>0.146192</td>\n",
              "      <td>0.131912</td>\n",
              "    </tr>\n",
              "    <tr>\n",
              "      <th>number_of_reviews</th>\n",
              "      <td>-0.022221</td>\n",
              "      <td>-0.110140</td>\n",
              "      <td>1.000000</td>\n",
              "      <td>0.520252</td>\n",
              "      <td>0.070670</td>\n",
              "      <td>0.236331</td>\n",
              "    </tr>\n",
              "    <tr>\n",
              "      <th>reviews_per_month</th>\n",
              "      <td>-0.016941</td>\n",
              "      <td>-0.189379</td>\n",
              "      <td>0.520252</td>\n",
              "      <td>1.000000</td>\n",
              "      <td>0.132404</td>\n",
              "      <td>0.216651</td>\n",
              "    </tr>\n",
              "    <tr>\n",
              "      <th>calculated_host_listings_count</th>\n",
              "      <td>-0.123816</td>\n",
              "      <td>0.146192</td>\n",
              "      <td>0.070670</td>\n",
              "      <td>0.132404</td>\n",
              "      <td>1.000000</td>\n",
              "      <td>0.332563</td>\n",
              "    </tr>\n",
              "    <tr>\n",
              "      <th>availability_365</th>\n",
              "      <td>0.044176</td>\n",
              "      <td>0.131912</td>\n",
              "      <td>0.236331</td>\n",
              "      <td>0.216651</td>\n",
              "      <td>0.332563</td>\n",
              "      <td>1.000000</td>\n",
              "    </tr>\n",
              "  </tbody>\n",
              "</table>\n",
              "</div>"
            ],
            "text/plain": [
              "                                   price  ...  availability_365\n",
              "price                           1.000000  ...          0.044176\n",
              "minimum_nights                 -0.004278  ...          0.131912\n",
              "number_of_reviews              -0.022221  ...          0.236331\n",
              "reviews_per_month              -0.016941  ...          0.216651\n",
              "calculated_host_listings_count -0.123816  ...          0.332563\n",
              "availability_365                0.044176  ...          1.000000\n",
              "\n",
              "[6 rows x 6 columns]"
            ]
          },
          "metadata": {
            "tags": []
          }
        }
      ]
    },
    {
      "cell_type": "code",
      "metadata": {
        "id": "91UujDr6ueqE",
        "colab_type": "code",
        "outputId": "793aaffb-5665-4350-a889-fd36a5dfbf22",
        "colab": {
          "base_uri": "https://localhost:8080/",
          "height": 411
        }
      },
      "source": [
        "# plotting a heatmap for the correlations\n",
        "sns.heatmap(corr, cmap='RdBu', fmt='.2f', square=True, linecolor='white', annot=True);\n"
      ],
      "execution_count": 0,
      "outputs": [
        {
          "output_type": "display_data",
          "data": {
            "image/png": "[encoded data removed]",
            "text/plain": [
              "<Figure size 432x288 with 2 Axes>"
            ]
          },
          "metadata": {
            "tags": []
          }
        }
      ]
    },
    {
      "cell_type": "markdown",
      "metadata": {
        "id": "7x4aw1j5wNmn",
        "colab_type": "text"
      },
      "source": [
        "### **Q4. What is the average price for rent?**"
      ]
    },
    {
      "cell_type": "code",
      "metadata": {
        "id": "ff-8gUahLk-C",
        "colab_type": "code",
        "outputId": "db7c6a19-0b36-4fa7-955e-60396a6ab490",
        "colab": {
          "base_uri": "https://localhost:8080/",
          "height": 35
        }
      },
      "source": [
        "# checking the average price of the listings \n",
        "print('Average price:\\t',  df_clean.price.mean())"
      ],
      "execution_count": 0,
      "outputs": [
        {
          "output_type": "stream",
          "text": [
            "Average price:\t 126.16380238819949\n"
          ],
          "name": "stdout"
        }
      ]
    },
    {
      "cell_type": "markdown",
      "metadata": {
        "id": "7b6RMWpuHKN-",
        "colab_type": "text"
      },
      "source": [
        "### **Q5. What kind of listing is the most rented on Airbnb?**\n",
        "\n",
        "The column of the variable [room_type] indicates what kind of listing it is on Airbnb. It is possible to rent an entire apartment/house, a private room, or a shared room.\n",
        "\n",
        "Let's count the quantity of entries for each type, using the method value_counts()"
      ]
    },
    {
      "cell_type": "code",
      "metadata": {
        "id": "ueLPNWvPHgfB",
        "colab_type": "code",
        "outputId": "f72077b3-0b1c-4bf5-d65f-a6336bae6faf",
        "colab": {
          "base_uri": "https://localhost:8080/",
          "height": 87
        }
      },
      "source": [
        "# show the quantity of each type of listing available\n",
        "df_clean.room_type.value_counts()"
      ],
      "execution_count": 0,
      "outputs": [
        {
          "output_type": "execute_result",
          "data": {
            "text/plain": [
              "Entire home/apt    21177\n",
              "Private room       20495\n",
              "Shared room         1038\n",
              "Name: room_type, dtype: int64"
            ]
          },
          "metadata": {
            "tags": []
          },
          "execution_count": 18
        }
      ]
    },
    {
      "cell_type": "code",
      "metadata": {
        "id": "EvwoO-XAHhIm",
        "colab_type": "code",
        "outputId": "eb437524-4a1a-48ac-c0d4-1a68a8968af9",
        "colab": {
          "base_uri": "https://localhost:8080/",
          "height": 87
        }
      },
      "source": [
        "# show the percentage of each type of listing available\n",
        "df_clean.room_type.value_counts() / df_clean.shape[0]\n"
      ],
      "execution_count": 0,
      "outputs": [
        {
          "output_type": "execute_result",
          "data": {
            "text/plain": [
              "Entire home/apt    0.495832\n",
              "Private room       0.479864\n",
              "Shared room        0.024303\n",
              "Name: room_type, dtype: float64"
            ]
          },
          "metadata": {
            "tags": []
          },
          "execution_count": 19
        }
      ]
    },
    {
      "cell_type": "markdown",
      "metadata": {
        "id": "MFa5NbnLJMcd",
        "colab_type": "text"
      },
      "source": [
        "### **Q6. What's the most expensive location of the dataset?**\n",
        "It's possible to check a variable in relation to another using the function  `groupby()`. In this case, we're going to compare the neighborhood in relation to their price.\n"
      ]
    },
    {
      "cell_type": "code",
      "metadata": {
        "id": "MD_xa143JZpi",
        "colab_type": "code",
        "outputId": "b73ccfa7-64d0-497f-f2d2-838f4ed8bb2f",
        "colab": {
          "base_uri": "https://localhost:8080/",
          "height": 312
        }
      },
      "source": [
        "# see the average price for each neighborhood\n",
        "df_clean.groupby(['neighbourhood']).price.mean().sort_values(ascending=False)[:15]\n"
      ],
      "execution_count": 0,
      "outputs": [
        {
          "output_type": "execute_result",
          "data": {
            "text/plain": [
              "neighbourhood\n",
              "Willowbrook          299.000000\n",
              "Neponsit             274.666667\n",
              "NoHo                 235.233333\n",
              "Tribeca              229.817204\n",
              "Flatiron District    216.583333\n",
              "Breezy Point         213.333333\n",
              "Bay Terrace          210.000000\n",
              "Midtown              209.626804\n",
              "West Village         205.140845\n",
              "Chelsea              195.397077\n",
              "Greenwich Village    192.498489\n",
              "Jamaica Estates      186.538462\n",
              "Murray Hill          186.061069\n",
              "SoHo                 185.146341\n",
              "DUMBO                184.615385\n",
              "Name: price, dtype: float64"
            ]
          },
          "metadata": {
            "tags": []
          },
          "execution_count": 24
        }
      ]
    },
    {
      "cell_type": "markdown",
      "metadata": {
        "id": "jTwksfBaQqO6",
        "colab_type": "text"
      },
      "source": [
        "Some of the results above stand out, being out of the ordinary, and not what we would expect when it comes to **New York City**.\n",
        "\n",
        "Willowbrook is in *New Jersey*. Neponsit and Breezy Point are *beach areas*, and Bay Terrace and Jamaica Estates are deep in Queens, places that shouldn't be more expensive than Soho, Dumbo, Chelsea, Midtown, etc.\n",
        "\n",
        "Let's go a little deeper into these locations to try and understand why they stand out."
      ]
    },
    {
      "cell_type": "code",
      "metadata": {
        "id": "UHJBC80uSxaH",
        "colab_type": "code",
        "outputId": "958e6653-d4fa-41de-807b-b9638acbfe4e",
        "colab": {
          "base_uri": "https://localhost:8080/",
          "height": 290
        }
      },
      "source": [
        "# quantity of listings in Willowbrook\n",
        "print(df[df.neighbourhood == \"Willowbrook\"].shape)\n",
        "\n",
        "\n",
        "# show listings in Willowbrook\n",
        "df[df.neighbourhood == \"Willowbrook\"]"
      ],
      "execution_count": 0,
      "outputs": [
        {
          "output_type": "stream",
          "text": [
            "(1, 16)\n",
            "(3, 16)\n",
            "(3, 16)\n",
            "(7, 16)\n",
            "(15, 16)\n"
          ],
          "name": "stdout"
        },
        {
          "output_type": "execute_result",
          "data": {
            "text/html": [
              "<div>\n",
              "<style scoped>\n",
              "    .dataframe tbody tr th:only-of-type {\n",
              "        vertical-align: middle;\n",
              "    }\n",
              "\n",
              "    .dataframe tbody tr th {\n",
              "        vertical-align: top;\n",
              "    }\n",
              "\n",
              "    .dataframe thead th {\n",
              "        text-align: right;\n",
              "    }\n",
              "</style>\n",
              "<table border=\"1\" class=\"dataframe\">\n",
              "  <thead>\n",
              "    <tr style=\"text-align: right;\">\n",
              "      <th></th>\n",
              "      <th>id</th>\n",
              "      <th>name</th>\n",
              "      <th>host_id</th>\n",
              "      <th>host_name</th>\n",
              "      <th>neighbourhood_group</th>\n",
              "      <th>neighbourhood</th>\n",
              "      <th>latitude</th>\n",
              "      <th>longitude</th>\n",
              "      <th>room_type</th>\n",
              "      <th>price</th>\n",
              "      <th>minimum_nights</th>\n",
              "      <th>number_of_reviews</th>\n",
              "      <th>last_review</th>\n",
              "      <th>reviews_per_month</th>\n",
              "      <th>calculated_host_listings_count</th>\n",
              "      <th>availability_365</th>\n",
              "    </tr>\n",
              "  </thead>\n",
              "  <tbody>\n",
              "    <tr>\n",
              "      <th>33505</th>\n",
              "      <td>27088022</td>\n",
              "      <td>Bright, Brand NEW, and Spacious, Gorgeous Home</td>\n",
              "      <td>115827173</td>\n",
              "      <td>David</td>\n",
              "      <td>Staten Island</td>\n",
              "      <td>Willowbrook</td>\n",
              "      <td>40.59886</td>\n",
              "      <td>-74.13217</td>\n",
              "      <td>Entire home/apt</td>\n",
              "      <td>299</td>\n",
              "      <td>4</td>\n",
              "      <td>11</td>\n",
              "      <td>2019-07-24</td>\n",
              "      <td>0.9</td>\n",
              "      <td>2</td>\n",
              "      <td>351</td>\n",
              "    </tr>\n",
              "  </tbody>\n",
              "</table>\n",
              "</div>"
            ],
            "text/plain": [
              "             id  ... availability_365\n",
              "33505  27088022  ...              351\n",
              "\n",
              "[1 rows x 16 columns]"
            ]
          },
          "metadata": {
            "tags": []
          },
          "execution_count": 29
        }
      ]
    },
    {
      "cell_type": "code",
      "metadata": {
        "id": "TQzlYeEBUFy8",
        "colab_type": "code",
        "outputId": "4cfc1e21-86e4-4d95-f879-ca73c553132d",
        "colab": {
          "base_uri": "https://localhost:8080/",
          "height": 369
        }
      },
      "source": [
        "# quantity of listings in Neponsit\n",
        "print(df[df.neighbourhood == \"Neponsit\"].shape)\n",
        "\n",
        "# show listings in Neponsit\n",
        "df[df.neighbourhood == \"Neponsit\"]\n"
      ],
      "execution_count": 0,
      "outputs": [
        {
          "output_type": "stream",
          "text": [
            "(3, 16)\n"
          ],
          "name": "stdout"
        },
        {
          "output_type": "execute_result",
          "data": {
            "text/html": [
              "<div>\n",
              "<style scoped>\n",
              "    .dataframe tbody tr th:only-of-type {\n",
              "        vertical-align: middle;\n",
              "    }\n",
              "\n",
              "    .dataframe tbody tr th {\n",
              "        vertical-align: top;\n",
              "    }\n",
              "\n",
              "    .dataframe thead th {\n",
              "        text-align: right;\n",
              "    }\n",
              "</style>\n",
              "<table border=\"1\" class=\"dataframe\">\n",
              "  <thead>\n",
              "    <tr style=\"text-align: right;\">\n",
              "      <th></th>\n",
              "      <th>id</th>\n",
              "      <th>name</th>\n",
              "      <th>host_id</th>\n",
              "      <th>host_name</th>\n",
              "      <th>neighbourhood_group</th>\n",
              "      <th>neighbourhood</th>\n",
              "      <th>latitude</th>\n",
              "      <th>longitude</th>\n",
              "      <th>room_type</th>\n",
              "      <th>price</th>\n",
              "      <th>minimum_nights</th>\n",
              "      <th>number_of_reviews</th>\n",
              "      <th>last_review</th>\n",
              "      <th>reviews_per_month</th>\n",
              "      <th>calculated_host_listings_count</th>\n",
              "      <th>availability_365</th>\n",
              "    </tr>\n",
              "  </thead>\n",
              "  <tbody>\n",
              "    <tr>\n",
              "      <th>9806</th>\n",
              "      <td>7679236</td>\n",
              "      <td>Belle Harbor 4 BR 2 bath- 1 bl from Beach</td>\n",
              "      <td>40327248</td>\n",
              "      <td>Sarina</td>\n",
              "      <td>Queens</td>\n",
              "      <td>Neponsit</td>\n",
              "      <td>40.57215</td>\n",
              "      <td>-73.85822</td>\n",
              "      <td>Entire home/apt</td>\n",
              "      <td>350</td>\n",
              "      <td>2</td>\n",
              "      <td>9</td>\n",
              "      <td>2019-07-28</td>\n",
              "      <td>3.33</td>\n",
              "      <td>1</td>\n",
              "      <td>92</td>\n",
              "    </tr>\n",
              "    <tr>\n",
              "      <th>23455</th>\n",
              "      <td>19274199</td>\n",
              "      <td>Luxurious Country Beach Surf Loft</td>\n",
              "      <td>62608664</td>\n",
              "      <td>David</td>\n",
              "      <td>Queens</td>\n",
              "      <td>Neponsit</td>\n",
              "      <td>40.56931</td>\n",
              "      <td>-73.86122</td>\n",
              "      <td>Entire home/apt</td>\n",
              "      <td>274</td>\n",
              "      <td>2</td>\n",
              "      <td>34</td>\n",
              "      <td>2019-06-09</td>\n",
              "      <td>1.32</td>\n",
              "      <td>1</td>\n",
              "      <td>339</td>\n",
              "    </tr>\n",
              "    <tr>\n",
              "      <th>31293</th>\n",
              "      <td>24910361</td>\n",
              "      <td>\"The Little House by the Sea\"</td>\n",
              "      <td>188328775</td>\n",
              "      <td>Donna</td>\n",
              "      <td>Queens</td>\n",
              "      <td>Neponsit</td>\n",
              "      <td>40.57043</td>\n",
              "      <td>-73.85821</td>\n",
              "      <td>Entire home/apt</td>\n",
              "      <td>200</td>\n",
              "      <td>2</td>\n",
              "      <td>10</td>\n",
              "      <td>2019-07-28</td>\n",
              "      <td>0.73</td>\n",
              "      <td>1</td>\n",
              "      <td>56</td>\n",
              "    </tr>\n",
              "  </tbody>\n",
              "</table>\n",
              "</div>"
            ],
            "text/plain": [
              "             id  ... availability_365\n",
              "9806    7679236  ...               92\n",
              "23455  19274199  ...              339\n",
              "31293  24910361  ...               56\n",
              "\n",
              "[3 rows x 16 columns]"
            ]
          },
          "metadata": {
            "tags": []
          },
          "execution_count": 30
        }
      ]
    },
    {
      "cell_type": "code",
      "metadata": {
        "id": "ijRruUd0UUda",
        "colab_type": "code",
        "outputId": "cea2fff5-a57c-43aa-c913-09873fd9c9e2",
        "colab": {
          "base_uri": "https://localhost:8080/",
          "height": 247
        }
      },
      "source": [
        "# quantity of listings in Breezy Point\n",
        "print(df[df.neighbourhood == \"Breezy Point\"].shape)\n",
        "\n",
        "# show listings in Breezy Point\n",
        "df[df.neighbourhood == \"Breezy Point\"]"
      ],
      "execution_count": 0,
      "outputs": [
        {
          "output_type": "stream",
          "text": [
            "(3, 16)\n"
          ],
          "name": "stdout"
        },
        {
          "output_type": "execute_result",
          "data": {
            "text/html": [
              "<div>\n",
              "<style scoped>\n",
              "    .dataframe tbody tr th:only-of-type {\n",
              "        vertical-align: middle;\n",
              "    }\n",
              "\n",
              "    .dataframe tbody tr th {\n",
              "        vertical-align: top;\n",
              "    }\n",
              "\n",
              "    .dataframe thead th {\n",
              "        text-align: right;\n",
              "    }\n",
              "</style>\n",
              "<table border=\"1\" class=\"dataframe\">\n",
              "  <thead>\n",
              "    <tr style=\"text-align: right;\">\n",
              "      <th></th>\n",
              "      <th>id</th>\n",
              "      <th>name</th>\n",
              "      <th>host_id</th>\n",
              "      <th>host_name</th>\n",
              "      <th>neighbourhood_group</th>\n",
              "      <th>neighbourhood</th>\n",
              "      <th>latitude</th>\n",
              "      <th>longitude</th>\n",
              "      <th>room_type</th>\n",
              "      <th>price</th>\n",
              "      <th>minimum_nights</th>\n",
              "      <th>number_of_reviews</th>\n",
              "      <th>last_review</th>\n",
              "      <th>reviews_per_month</th>\n",
              "      <th>calculated_host_listings_count</th>\n",
              "      <th>availability_365</th>\n",
              "    </tr>\n",
              "  </thead>\n",
              "  <tbody>\n",
              "    <tr>\n",
              "      <th>33049</th>\n",
              "      <td>26703677</td>\n",
              "      <td>Camp Rockaway</td>\n",
              "      <td>200754542</td>\n",
              "      <td>Kent</td>\n",
              "      <td>Queens</td>\n",
              "      <td>Breezy Point</td>\n",
              "      <td>40.56605</td>\n",
              "      <td>-73.86994</td>\n",
              "      <td>Private room</td>\n",
              "      <td>195</td>\n",
              "      <td>1</td>\n",
              "      <td>4</td>\n",
              "      <td>2019-06-15</td>\n",
              "      <td>0.32</td>\n",
              "      <td>2</td>\n",
              "      <td>171</td>\n",
              "    </tr>\n",
              "    <tr>\n",
              "      <th>33741</th>\n",
              "      <td>27301638</td>\n",
              "      <td>Camp Rockaway</td>\n",
              "      <td>200754542</td>\n",
              "      <td>Kent</td>\n",
              "      <td>Queens</td>\n",
              "      <td>Breezy Point</td>\n",
              "      <td>40.56568</td>\n",
              "      <td>-73.87009</td>\n",
              "      <td>Private room</td>\n",
              "      <td>195</td>\n",
              "      <td>1</td>\n",
              "      <td>1</td>\n",
              "      <td>2018-08-25</td>\n",
              "      <td>0.09</td>\n",
              "      <td>2</td>\n",
              "      <td>68</td>\n",
              "    </tr>\n",
              "    <tr>\n",
              "      <th>46922</th>\n",
              "      <td>36417725</td>\n",
              "      <td>Ocenfront Glamping in Queens</td>\n",
              "      <td>273672846</td>\n",
              "      <td>Hectavious</td>\n",
              "      <td>Queens</td>\n",
              "      <td>Breezy Point</td>\n",
              "      <td>40.56546</td>\n",
              "      <td>-73.86968</td>\n",
              "      <td>Private room</td>\n",
              "      <td>250</td>\n",
              "      <td>1</td>\n",
              "      <td>0</td>\n",
              "      <td>NaN</td>\n",
              "      <td>NaN</td>\n",
              "      <td>1</td>\n",
              "      <td>82</td>\n",
              "    </tr>\n",
              "  </tbody>\n",
              "</table>\n",
              "</div>"
            ],
            "text/plain": [
              "             id  ... availability_365\n",
              "33049  26703677  ...              171\n",
              "33741  27301638  ...               68\n",
              "46922  36417725  ...               82\n",
              "\n",
              "[3 rows x 16 columns]"
            ]
          },
          "metadata": {
            "tags": []
          },
          "execution_count": 31
        }
      ]
    },
    {
      "cell_type": "code",
      "metadata": {
        "id": "vvhT6Ut5VFBP",
        "colab_type": "code",
        "outputId": "d953c085-ae83-4bf8-9d86-5a0afae81d97",
        "colab": {
          "base_uri": "https://localhost:8080/",
          "height": 613
        }
      },
      "source": [
        "# quantity of listings in Bay Terrace\n",
        "print(df[df.neighbourhood == \"Bay Terrace\"].shape)\n",
        "\n",
        "# show the listings in Bay Terrace\n",
        "df[df.neighbourhood == \"Bay Terrace\"]"
      ],
      "execution_count": 0,
      "outputs": [
        {
          "output_type": "stream",
          "text": [
            "(7, 16)\n"
          ],
          "name": "stdout"
        },
        {
          "output_type": "execute_result",
          "data": {
            "text/html": [
              "<div>\n",
              "<style scoped>\n",
              "    .dataframe tbody tr th:only-of-type {\n",
              "        vertical-align: middle;\n",
              "    }\n",
              "\n",
              "    .dataframe tbody tr th {\n",
              "        vertical-align: top;\n",
              "    }\n",
              "\n",
              "    .dataframe thead th {\n",
              "        text-align: right;\n",
              "    }\n",
              "</style>\n",
              "<table border=\"1\" class=\"dataframe\">\n",
              "  <thead>\n",
              "    <tr style=\"text-align: right;\">\n",
              "      <th></th>\n",
              "      <th>id</th>\n",
              "      <th>name</th>\n",
              "      <th>host_id</th>\n",
              "      <th>host_name</th>\n",
              "      <th>neighbourhood_group</th>\n",
              "      <th>neighbourhood</th>\n",
              "      <th>latitude</th>\n",
              "      <th>longitude</th>\n",
              "      <th>room_type</th>\n",
              "      <th>price</th>\n",
              "      <th>minimum_nights</th>\n",
              "      <th>number_of_reviews</th>\n",
              "      <th>last_review</th>\n",
              "      <th>reviews_per_month</th>\n",
              "      <th>calculated_host_listings_count</th>\n",
              "      <th>availability_365</th>\n",
              "    </tr>\n",
              "  </thead>\n",
              "  <tbody>\n",
              "    <tr>\n",
              "      <th>3868</th>\n",
              "      <td>2467377</td>\n",
              "      <td>Centrally located in Bayside / Nice</td>\n",
              "      <td>7801481</td>\n",
              "      <td>Inez</td>\n",
              "      <td>Queens</td>\n",
              "      <td>Bay Terrace</td>\n",
              "      <td>40.78645</td>\n",
              "      <td>-73.77958</td>\n",
              "      <td>Private room</td>\n",
              "      <td>90</td>\n",
              "      <td>3</td>\n",
              "      <td>8</td>\n",
              "      <td>2019-01-15</td>\n",
              "      <td>0.24</td>\n",
              "      <td>2</td>\n",
              "      <td>325</td>\n",
              "    </tr>\n",
              "    <tr>\n",
              "      <th>4916</th>\n",
              "      <td>3609762</td>\n",
              "      <td>Sunny spacious 3 BR/ 2Bth in Bayside townhouse</td>\n",
              "      <td>18189519</td>\n",
              "      <td>Irma</td>\n",
              "      <td>Queens</td>\n",
              "      <td>Bay Terrace</td>\n",
              "      <td>40.77995</td>\n",
              "      <td>-73.78506</td>\n",
              "      <td>Entire home/apt</td>\n",
              "      <td>184</td>\n",
              "      <td>3</td>\n",
              "      <td>148</td>\n",
              "      <td>2019-07-13</td>\n",
              "      <td>2.46</td>\n",
              "      <td>1</td>\n",
              "      <td>152</td>\n",
              "    </tr>\n",
              "    <tr>\n",
              "      <th>5845</th>\n",
              "      <td>4357892</td>\n",
              "      <td>New!!!  4 BR/2 Bth in a private house.</td>\n",
              "      <td>22727798</td>\n",
              "      <td>Roman</td>\n",
              "      <td>Queens</td>\n",
              "      <td>Bay Terrace</td>\n",
              "      <td>40.77774</td>\n",
              "      <td>-73.78376</td>\n",
              "      <td>Entire home/apt</td>\n",
              "      <td>189</td>\n",
              "      <td>3</td>\n",
              "      <td>89</td>\n",
              "      <td>2019-07-22</td>\n",
              "      <td>1.92</td>\n",
              "      <td>1</td>\n",
              "      <td>331</td>\n",
              "    </tr>\n",
              "    <tr>\n",
              "      <th>6939</th>\n",
              "      <td>5094593</td>\n",
              "      <td>Cozy room in a quite neighborhood</td>\n",
              "      <td>7801481</td>\n",
              "      <td>Inez</td>\n",
              "      <td>Queens</td>\n",
              "      <td>Bay Terrace</td>\n",
              "      <td>40.78598</td>\n",
              "      <td>-73.77915</td>\n",
              "      <td>Private room</td>\n",
              "      <td>99</td>\n",
              "      <td>3</td>\n",
              "      <td>4</td>\n",
              "      <td>2018-05-04</td>\n",
              "      <td>0.08</td>\n",
              "      <td>2</td>\n",
              "      <td>1</td>\n",
              "    </tr>\n",
              "    <tr>\n",
              "      <th>46166</th>\n",
              "      <td>35945859</td>\n",
              "      <td>纽约的家</td>\n",
              "      <td>98455047</td>\n",
              "      <td>Jessica</td>\n",
              "      <td>Queens</td>\n",
              "      <td>Bay Terrace</td>\n",
              "      <td>40.77415</td>\n",
              "      <td>-73.79218</td>\n",
              "      <td>Entire home/apt</td>\n",
              "      <td>258</td>\n",
              "      <td>1</td>\n",
              "      <td>1</td>\n",
              "      <td>2019-07-07</td>\n",
              "      <td>0.94</td>\n",
              "      <td>1</td>\n",
              "      <td>343</td>\n",
              "    </tr>\n",
              "    <tr>\n",
              "      <th>47789</th>\n",
              "      <td>36974101</td>\n",
              "      <td>✨❣  Upscale Family Getaway, Pool, SPA And Gym ...</td>\n",
              "      <td>259880452</td>\n",
              "      <td>Malik</td>\n",
              "      <td>Queens</td>\n",
              "      <td>Bay Terrace</td>\n",
              "      <td>40.77914</td>\n",
              "      <td>-73.77915</td>\n",
              "      <td>Entire home/apt</td>\n",
              "      <td>999</td>\n",
              "      <td>5</td>\n",
              "      <td>0</td>\n",
              "      <td>NaN</td>\n",
              "      <td>NaN</td>\n",
              "      <td>3</td>\n",
              "      <td>365</td>\n",
              "    </tr>\n",
              "    <tr>\n",
              "      <th>47997</th>\n",
              "      <td>37058053</td>\n",
              "      <td>Bay Terrace Basement</td>\n",
              "      <td>7147336</td>\n",
              "      <td>Daniel</td>\n",
              "      <td>Queens</td>\n",
              "      <td>Bay Terrace</td>\n",
              "      <td>40.78157</td>\n",
              "      <td>-73.77355</td>\n",
              "      <td>Private room</td>\n",
              "      <td>440</td>\n",
              "      <td>1</td>\n",
              "      <td>1</td>\n",
              "      <td>2019-08-02</td>\n",
              "      <td>1.00</td>\n",
              "      <td>1</td>\n",
              "      <td>178</td>\n",
              "    </tr>\n",
              "  </tbody>\n",
              "</table>\n",
              "</div>"
            ],
            "text/plain": [
              "             id  ... availability_365\n",
              "3868    2467377  ...              325\n",
              "4916    3609762  ...              152\n",
              "5845    4357892  ...              331\n",
              "6939    5094593  ...                1\n",
              "46166  35945859  ...              343\n",
              "47789  36974101  ...              365\n",
              "47997  37058053  ...              178\n",
              "\n",
              "[7 rows x 16 columns]"
            ]
          },
          "metadata": {
            "tags": []
          },
          "execution_count": 33
        }
      ]
    },
    {
      "cell_type": "code",
      "metadata": {
        "id": "vZzYFtCyVbqf",
        "colab_type": "code",
        "outputId": "23af0966-b201-4a7a-d1b6-39162f2b4a15",
        "colab": {
          "base_uri": "https://localhost:8080/",
          "height": 1000
        }
      },
      "source": [
        "# show quantity of listings in Jamaica Estates\n",
        "print(df[df.neighbourhood == \"Jamaica Estates\"].shape)\n",
        "\n",
        "# show listings in Jamaica Estates\n",
        "df[df.neighbourhood == \"Jamaica Estates\"]"
      ],
      "execution_count": 0,
      "outputs": [
        {
          "output_type": "stream",
          "text": [
            "(15, 16)\n"
          ],
          "name": "stdout"
        },
        {
          "output_type": "execute_result",
          "data": {
            "text/html": [
              "<div>\n",
              "<style scoped>\n",
              "    .dataframe tbody tr th:only-of-type {\n",
              "        vertical-align: middle;\n",
              "    }\n",
              "\n",
              "    .dataframe tbody tr th {\n",
              "        vertical-align: top;\n",
              "    }\n",
              "\n",
              "    .dataframe thead th {\n",
              "        text-align: right;\n",
              "    }\n",
              "</style>\n",
              "<table border=\"1\" class=\"dataframe\">\n",
              "  <thead>\n",
              "    <tr style=\"text-align: right;\">\n",
              "      <th></th>\n",
              "      <th>id</th>\n",
              "      <th>name</th>\n",
              "      <th>host_id</th>\n",
              "      <th>host_name</th>\n",
              "      <th>neighbourhood_group</th>\n",
              "      <th>neighbourhood</th>\n",
              "      <th>latitude</th>\n",
              "      <th>longitude</th>\n",
              "      <th>room_type</th>\n",
              "      <th>price</th>\n",
              "      <th>minimum_nights</th>\n",
              "      <th>number_of_reviews</th>\n",
              "      <th>last_review</th>\n",
              "      <th>reviews_per_month</th>\n",
              "      <th>calculated_host_listings_count</th>\n",
              "      <th>availability_365</th>\n",
              "    </tr>\n",
              "  </thead>\n",
              "  <tbody>\n",
              "    <tr>\n",
              "      <th>5940</th>\n",
              "      <td>4430808</td>\n",
              "      <td>Studio-Private Entrance /Bath/Kitchen Near JFK</td>\n",
              "      <td>23002099</td>\n",
              "      <td>Sol &amp; Izak</td>\n",
              "      <td>Queens</td>\n",
              "      <td>Jamaica Estates</td>\n",
              "      <td>40.71873</td>\n",
              "      <td>-73.80324</td>\n",
              "      <td>Entire home/apt</td>\n",
              "      <td>64</td>\n",
              "      <td>2</td>\n",
              "      <td>197</td>\n",
              "      <td>2019-07-20</td>\n",
              "      <td>3.50</td>\n",
              "      <td>1</td>\n",
              "      <td>213</td>\n",
              "    </tr>\n",
              "    <tr>\n",
              "      <th>7784</th>\n",
              "      <td>6079079</td>\n",
              "      <td>4 bedrooms private house</td>\n",
              "      <td>30214562</td>\n",
              "      <td>Sharon</td>\n",
              "      <td>Queens</td>\n",
              "      <td>Jamaica Estates</td>\n",
              "      <td>40.72362</td>\n",
              "      <td>-73.79100</td>\n",
              "      <td>Entire home/apt</td>\n",
              "      <td>145</td>\n",
              "      <td>4</td>\n",
              "      <td>38</td>\n",
              "      <td>2017-06-28</td>\n",
              "      <td>0.74</td>\n",
              "      <td>1</td>\n",
              "      <td>154</td>\n",
              "    </tr>\n",
              "    <tr>\n",
              "      <th>9108</th>\n",
              "      <td>7089310</td>\n",
              "      <td>One of a kind big home in Queens</td>\n",
              "      <td>37157641</td>\n",
              "      <td>Madi</td>\n",
              "      <td>Queens</td>\n",
              "      <td>Jamaica Estates</td>\n",
              "      <td>40.72223</td>\n",
              "      <td>-73.78565</td>\n",
              "      <td>Entire home/apt</td>\n",
              "      <td>398</td>\n",
              "      <td>4</td>\n",
              "      <td>59</td>\n",
              "      <td>2019-08-04</td>\n",
              "      <td>1.34</td>\n",
              "      <td>1</td>\n",
              "      <td>130</td>\n",
              "    </tr>\n",
              "    <tr>\n",
              "      <th>14511</th>\n",
              "      <td>11656721</td>\n",
              "      <td>3 bedroom near Park</td>\n",
              "      <td>46502890</td>\n",
              "      <td>Jackie</td>\n",
              "      <td>Queens</td>\n",
              "      <td>Jamaica Estates</td>\n",
              "      <td>40.72191</td>\n",
              "      <td>-73.78207</td>\n",
              "      <td>Private room</td>\n",
              "      <td>750</td>\n",
              "      <td>1</td>\n",
              "      <td>0</td>\n",
              "      <td>NaN</td>\n",
              "      <td>NaN</td>\n",
              "      <td>2</td>\n",
              "      <td>0</td>\n",
              "    </tr>\n",
              "    <tr>\n",
              "      <th>28148</th>\n",
              "      <td>22178073</td>\n",
              "      <td>Tranquility Stay-cation with private pool</td>\n",
              "      <td>21963202</td>\n",
              "      <td>Journey</td>\n",
              "      <td>Queens</td>\n",
              "      <td>Jamaica Estates</td>\n",
              "      <td>40.71770</td>\n",
              "      <td>-73.78689</td>\n",
              "      <td>Entire home/apt</td>\n",
              "      <td>145</td>\n",
              "      <td>1</td>\n",
              "      <td>124</td>\n",
              "      <td>2019-07-31</td>\n",
              "      <td>6.94</td>\n",
              "      <td>2</td>\n",
              "      <td>144</td>\n",
              "    </tr>\n",
              "    <tr>\n",
              "      <th>28830</th>\n",
              "      <td>22518123</td>\n",
              "      <td>15 to JFK/LGA 30 to Manhattan.Close to St John’s</td>\n",
              "      <td>165307387</td>\n",
              "      <td>K</td>\n",
              "      <td>Queens</td>\n",
              "      <td>Jamaica Estates</td>\n",
              "      <td>40.71248</td>\n",
              "      <td>-73.78896</td>\n",
              "      <td>Entire home/apt</td>\n",
              "      <td>85</td>\n",
              "      <td>1</td>\n",
              "      <td>94</td>\n",
              "      <td>2019-07-28</td>\n",
              "      <td>5.19</td>\n",
              "      <td>1</td>\n",
              "      <td>343</td>\n",
              "    </tr>\n",
              "    <tr>\n",
              "      <th>32206</th>\n",
              "      <td>25887684</td>\n",
              "      <td>Gorgeous Two Br Apt in Jamaica Estates.</td>\n",
              "      <td>194520886</td>\n",
              "      <td>Nazma</td>\n",
              "      <td>Queens</td>\n",
              "      <td>Jamaica Estates</td>\n",
              "      <td>40.71434</td>\n",
              "      <td>-73.78805</td>\n",
              "      <td>Entire home/apt</td>\n",
              "      <td>125</td>\n",
              "      <td>1</td>\n",
              "      <td>19</td>\n",
              "      <td>2019-07-29</td>\n",
              "      <td>1.71</td>\n",
              "      <td>2</td>\n",
              "      <td>168</td>\n",
              "    </tr>\n",
              "    <tr>\n",
              "      <th>34070</th>\n",
              "      <td>27552868</td>\n",
              "      <td>VIP staycation deluxe movie theater indoor pool</td>\n",
              "      <td>21963202</td>\n",
              "      <td>Journey</td>\n",
              "      <td>Queens</td>\n",
              "      <td>Jamaica Estates</td>\n",
              "      <td>40.71927</td>\n",
              "      <td>-73.78680</td>\n",
              "      <td>Entire home/apt</td>\n",
              "      <td>275</td>\n",
              "      <td>1</td>\n",
              "      <td>0</td>\n",
              "      <td>NaN</td>\n",
              "      <td>NaN</td>\n",
              "      <td>2</td>\n",
              "      <td>331</td>\n",
              "    </tr>\n",
              "    <tr>\n",
              "      <th>34142</th>\n",
              "      <td>27620424</td>\n",
              "      <td>Two bedrooms apt. in Jamaica Estates</td>\n",
              "      <td>194520886</td>\n",
              "      <td>Nazma</td>\n",
              "      <td>Queens</td>\n",
              "      <td>Jamaica Estates</td>\n",
              "      <td>40.71430</td>\n",
              "      <td>-73.78985</td>\n",
              "      <td>Entire home/apt</td>\n",
              "      <td>150</td>\n",
              "      <td>1</td>\n",
              "      <td>22</td>\n",
              "      <td>2019-08-04</td>\n",
              "      <td>1.94</td>\n",
              "      <td>2</td>\n",
              "      <td>163</td>\n",
              "    </tr>\n",
              "    <tr>\n",
              "      <th>35229</th>\n",
              "      <td>28587071</td>\n",
              "      <td>Private Bedroom in Queens at St. John's Univer...</td>\n",
              "      <td>215759678</td>\n",
              "      <td>Andrew</td>\n",
              "      <td>Queens</td>\n",
              "      <td>Jamaica Estates</td>\n",
              "      <td>40.71987</td>\n",
              "      <td>-73.79816</td>\n",
              "      <td>Private room</td>\n",
              "      <td>35</td>\n",
              "      <td>4</td>\n",
              "      <td>34</td>\n",
              "      <td>2019-07-31</td>\n",
              "      <td>3.42</td>\n",
              "      <td>1</td>\n",
              "      <td>239</td>\n",
              "    </tr>\n",
              "    <tr>\n",
              "      <th>40737</th>\n",
              "      <td>32531409</td>\n",
              "      <td>Luxury home, 2700 sq ft, 20 m to airports/City...</td>\n",
              "      <td>168814318</td>\n",
              "      <td>Misha</td>\n",
              "      <td>Queens</td>\n",
              "      <td>Jamaica Estates</td>\n",
              "      <td>40.71894</td>\n",
              "      <td>-73.78188</td>\n",
              "      <td>Entire home/apt</td>\n",
              "      <td>250</td>\n",
              "      <td>2</td>\n",
              "      <td>18</td>\n",
              "      <td>2019-07-19</td>\n",
              "      <td>4.15</td>\n",
              "      <td>1</td>\n",
              "      <td>64</td>\n",
              "    </tr>\n",
              "    <tr>\n",
              "      <th>41974</th>\n",
              "      <td>33475698</td>\n",
              "      <td>Germania's Deluxe Palace</td>\n",
              "      <td>252019224</td>\n",
              "      <td>Gladys Germania</td>\n",
              "      <td>Queens</td>\n",
              "      <td>Jamaica Estates</td>\n",
              "      <td>40.71668</td>\n",
              "      <td>-73.80588</td>\n",
              "      <td>Entire home/apt</td>\n",
              "      <td>250</td>\n",
              "      <td>1</td>\n",
              "      <td>19</td>\n",
              "      <td>2019-08-02</td>\n",
              "      <td>4.63</td>\n",
              "      <td>1</td>\n",
              "      <td>346</td>\n",
              "    </tr>\n",
              "    <tr>\n",
              "      <th>45668</th>\n",
              "      <td>35671998</td>\n",
              "      <td>Spectacular Apartment in the Heart of NYC</td>\n",
              "      <td>261295185</td>\n",
              "      <td>Laila</td>\n",
              "      <td>Queens</td>\n",
              "      <td>Jamaica Estates</td>\n",
              "      <td>40.71213</td>\n",
              "      <td>-73.78778</td>\n",
              "      <td>Entire home/apt</td>\n",
              "      <td>219</td>\n",
              "      <td>2</td>\n",
              "      <td>2</td>\n",
              "      <td>2019-07-13</td>\n",
              "      <td>1.87</td>\n",
              "      <td>1</td>\n",
              "      <td>343</td>\n",
              "    </tr>\n",
              "    <tr>\n",
              "      <th>46310</th>\n",
              "      <td>36040924</td>\n",
              "      <td>Cozy entire apt in Queens near St. John's Univ</td>\n",
              "      <td>271146927</td>\n",
              "      <td>Chooyou</td>\n",
              "      <td>Queens</td>\n",
              "      <td>Jamaica Estates</td>\n",
              "      <td>40.72124</td>\n",
              "      <td>-73.80072</td>\n",
              "      <td>Entire home/apt</td>\n",
              "      <td>68</td>\n",
              "      <td>2</td>\n",
              "      <td>5</td>\n",
              "      <td>2019-08-02</td>\n",
              "      <td>4.29</td>\n",
              "      <td>1</td>\n",
              "      <td>27</td>\n",
              "    </tr>\n",
              "    <tr>\n",
              "      <th>46451</th>\n",
              "      <td>36127750</td>\n",
              "      <td>Lovely 3 bedroom w/ 4beds &amp; 2 bathroom in Queens</td>\n",
              "      <td>261953214</td>\n",
              "      <td>Kumar</td>\n",
              "      <td>Queens</td>\n",
              "      <td>Jamaica Estates</td>\n",
              "      <td>40.71572</td>\n",
              "      <td>-73.78204</td>\n",
              "      <td>Entire home/apt</td>\n",
              "      <td>280</td>\n",
              "      <td>1</td>\n",
              "      <td>1</td>\n",
              "      <td>2019-07-10</td>\n",
              "      <td>1.00</td>\n",
              "      <td>1</td>\n",
              "      <td>340</td>\n",
              "    </tr>\n",
              "  </tbody>\n",
              "</table>\n",
              "</div>"
            ],
            "text/plain": [
              "             id  ... availability_365\n",
              "5940    4430808  ...              213\n",
              "7784    6079079  ...              154\n",
              "9108    7089310  ...              130\n",
              "14511  11656721  ...                0\n",
              "28148  22178073  ...              144\n",
              "28830  22518123  ...              343\n",
              "32206  25887684  ...              168\n",
              "34070  27552868  ...              331\n",
              "34142  27620424  ...              163\n",
              "35229  28587071  ...              239\n",
              "40737  32531409  ...               64\n",
              "41974  33475698  ...              346\n",
              "45668  35671998  ...              343\n",
              "46310  36040924  ...               27\n",
              "46451  36127750  ...              340\n",
              "\n",
              "[15 rows x 16 columns]"
            ]
          },
          "metadata": {
            "tags": []
          },
          "execution_count": 34
        }
      ]
    },
    {
      "cell_type": "markdown",
      "metadata": {
        "id": "TIpUznRFVpMN",
        "colab_type": "text"
      },
      "source": [
        "As we can see, these neighborhoods have very little listings at higher prices than the average for other New York City neighborhoods. These locations end up being *outliers*, rendering our analysis imprecise.\n",
        "\n",
        "When considering the previous statistics, don't account for these locations when analyzing the most expensive areas in the city."
      ]
    },
    {
      "cell_type": "code",
      "metadata": {
        "id": "UxVJqJ_3W59I",
        "colab_type": "code",
        "outputId": "a9a0951f-0bf7-45a2-cd82-9d5c67d0f36a",
        "colab": {
          "base_uri": "https://localhost:8080/",
          "height": 476
        }
      },
      "source": [
        "# plotting a map of the listings using their coordinates\n",
        "df_clean.plot(kind=\"scatter\", x='longitude', y='latitude', alpha=0.4, c=df_clean['price'], s=8,\n",
        "              cmap=plt.get_cmap('jet'), figsize=(12,8));\n"
      ],
      "execution_count": 0,
      "outputs": [
        {
          "output_type": "display_data",
          "data": {
            "image/png": "[encoded data removed]",
            "text/plain": [
              "<Figure size 864x576 with 2 Axes>"
            ]
          },
          "metadata": {
            "tags": []
          }
        }
      ]
    },
    {
      "cell_type": "markdown",
      "metadata": {
        "id": "vTneAMRUYvr1",
        "colab_type": "text"
      },
      "source": [
        "### **Q7. What's the average number of minimum nights to rent an Airbnb in New York City?**"
      ]
    },
    {
      "cell_type": "code",
      "metadata": {
        "id": "_VzNhrEgY82N",
        "colab_type": "code",
        "outputId": "695ee62b-c3b8-432b-8183-810c4e674c1a",
        "colab": {
          "base_uri": "https://localhost:8080/",
          "height": 35
        }
      },
      "source": [
        "# checking the average for minimum_nights\n",
        "print('Average minimum_nights:\\t',  df_clean.minimum_nights.mean())"
      ],
      "execution_count": 0,
      "outputs": [
        {
          "output_type": "stream",
          "text": [
            "Average minimum_nights:\t 4.640014048232264\n"
          ],
          "name": "stdout"
        }
      ]
    },
    {
      "cell_type": "markdown",
      "metadata": {
        "id": "HWJG5GRRljJf",
        "colab_type": "text"
      },
      "source": [
        "### **Q8. Is there correlation between the type of room and the minimum number of nights in New York City?**\n",
        "\n",
        "As seen before, it's illegal to rent out a house or an apartment in New York City for less than 30 days without the permanent tenant residing there.\n",
        "\n",
        "This piece of information would have us believe that the average number of minimum nights to rent out an entire apartment in New York City would be higher than that of renting a room.\n",
        "\n",
        "To check that, let's see if there's any correlation between the type of the room and the minimum number of nights for each type."
      ]
    },
    {
      "cell_type": "markdown",
      "metadata": {
        "id": "96g5tUP6mYZX",
        "colab_type": "text"
      },
      "source": [
        "Since the variable [room_type] is categorical and [minimum_nights] is numerical, to correlate both we need to transform [room_type] into a numerical type of variable. To do so, we'll need *dummy variables*"
      ]
    },
    {
      "cell_type": "code",
      "metadata": {
        "id": "ggYkmjS6izlw",
        "colab_type": "code",
        "outputId": "d201e1aa-6d13-49ae-a9a7-d9badf0400f4",
        "colab": {
          "base_uri": "https://localhost:8080/",
          "height": 430
        }
      },
      "source": [
        "# creating dummy variables to check correlation between Room Type and Minimum Nights\n",
        "room_type_dummies = pd.get_dummies(df_clean['room_type'], prefix='room_type')\n",
        "df_clean = pd.concat([df_clean, room_type_dummies], axis=1)\n",
        "df_clean.drop('room_type', axis=1, inplace=True)\n",
        "\n",
        "display(df_clean.head())"
      ],
      "execution_count": 0,
      "outputs": [
        {
          "output_type": "display_data",
          "data": {
            "text/html": [
              "<div>\n",
              "<style scoped>\n",
              "    .dataframe tbody tr th:only-of-type {\n",
              "        vertical-align: middle;\n",
              "    }\n",
              "\n",
              "    .dataframe tbody tr th {\n",
              "        vertical-align: top;\n",
              "    }\n",
              "\n",
              "    .dataframe thead th {\n",
              "        text-align: right;\n",
              "    }\n",
              "</style>\n",
              "<table border=\"1\" class=\"dataframe\">\n",
              "  <thead>\n",
              "    <tr style=\"text-align: right;\">\n",
              "      <th></th>\n",
              "      <th>id</th>\n",
              "      <th>name</th>\n",
              "      <th>host_id</th>\n",
              "      <th>host_name</th>\n",
              "      <th>neighbourhood_group</th>\n",
              "      <th>neighbourhood</th>\n",
              "      <th>latitude</th>\n",
              "      <th>longitude</th>\n",
              "      <th>price</th>\n",
              "      <th>minimum_nights</th>\n",
              "      <th>number_of_reviews</th>\n",
              "      <th>last_review</th>\n",
              "      <th>reviews_per_month</th>\n",
              "      <th>calculated_host_listings_count</th>\n",
              "      <th>availability_365</th>\n",
              "      <th>room_type_Entire home/apt</th>\n",
              "      <th>room_type_Private room</th>\n",
              "      <th>room_type_Shared room</th>\n",
              "    </tr>\n",
              "  </thead>\n",
              "  <tbody>\n",
              "    <tr>\n",
              "      <th>0</th>\n",
              "      <td>2595</td>\n",
              "      <td>Skylit Midtown Castle</td>\n",
              "      <td>2845</td>\n",
              "      <td>Jennifer</td>\n",
              "      <td>Manhattan</td>\n",
              "      <td>Midtown</td>\n",
              "      <td>40.75362</td>\n",
              "      <td>-73.98377</td>\n",
              "      <td>225</td>\n",
              "      <td>1</td>\n",
              "      <td>46</td>\n",
              "      <td>2019-07-14</td>\n",
              "      <td>0.39</td>\n",
              "      <td>2</td>\n",
              "      <td>288</td>\n",
              "      <td>1</td>\n",
              "      <td>0</td>\n",
              "      <td>0</td>\n",
              "    </tr>\n",
              "    <tr>\n",
              "      <th>1</th>\n",
              "      <td>3647</td>\n",
              "      <td>THE VILLAGE OF HARLEM....NEW YORK !</td>\n",
              "      <td>4632</td>\n",
              "      <td>Elisabeth</td>\n",
              "      <td>Manhattan</td>\n",
              "      <td>Harlem</td>\n",
              "      <td>40.80902</td>\n",
              "      <td>-73.94190</td>\n",
              "      <td>150</td>\n",
              "      <td>3</td>\n",
              "      <td>0</td>\n",
              "      <td>NaN</td>\n",
              "      <td>NaN</td>\n",
              "      <td>1</td>\n",
              "      <td>365</td>\n",
              "      <td>0</td>\n",
              "      <td>1</td>\n",
              "      <td>0</td>\n",
              "    </tr>\n",
              "    <tr>\n",
              "      <th>3</th>\n",
              "      <td>5022</td>\n",
              "      <td>Entire Apt: Spacious Studio/Loft by central park</td>\n",
              "      <td>7192</td>\n",
              "      <td>Laura</td>\n",
              "      <td>Manhattan</td>\n",
              "      <td>East Harlem</td>\n",
              "      <td>40.79851</td>\n",
              "      <td>-73.94399</td>\n",
              "      <td>80</td>\n",
              "      <td>10</td>\n",
              "      <td>9</td>\n",
              "      <td>2018-11-19</td>\n",
              "      <td>0.10</td>\n",
              "      <td>1</td>\n",
              "      <td>0</td>\n",
              "      <td>1</td>\n",
              "      <td>0</td>\n",
              "      <td>0</td>\n",
              "    </tr>\n",
              "    <tr>\n",
              "      <th>4</th>\n",
              "      <td>5099</td>\n",
              "      <td>Large Cozy 1 BR Apartment In Midtown East</td>\n",
              "      <td>7322</td>\n",
              "      <td>Chris</td>\n",
              "      <td>Manhattan</td>\n",
              "      <td>Murray Hill</td>\n",
              "      <td>40.74767</td>\n",
              "      <td>-73.97500</td>\n",
              "      <td>200</td>\n",
              "      <td>3</td>\n",
              "      <td>75</td>\n",
              "      <td>2019-07-21</td>\n",
              "      <td>0.60</td>\n",
              "      <td>1</td>\n",
              "      <td>127</td>\n",
              "      <td>1</td>\n",
              "      <td>0</td>\n",
              "      <td>0</td>\n",
              "    </tr>\n",
              "    <tr>\n",
              "      <th>7</th>\n",
              "      <td>5203</td>\n",
              "      <td>Cozy Clean Guest Room - Family Apt</td>\n",
              "      <td>7490</td>\n",
              "      <td>MaryEllen</td>\n",
              "      <td>Manhattan</td>\n",
              "      <td>Upper West Side</td>\n",
              "      <td>40.80178</td>\n",
              "      <td>-73.96723</td>\n",
              "      <td>79</td>\n",
              "      <td>2</td>\n",
              "      <td>118</td>\n",
              "      <td>2017-07-21</td>\n",
              "      <td>0.98</td>\n",
              "      <td>1</td>\n",
              "      <td>0</td>\n",
              "      <td>0</td>\n",
              "      <td>1</td>\n",
              "      <td>0</td>\n",
              "    </tr>\n",
              "  </tbody>\n",
              "</table>\n",
              "</div>"
            ],
            "text/plain": [
              "     id  ... room_type_Shared room\n",
              "0  2595  ...                     0\n",
              "1  3647  ...                     0\n",
              "3  5022  ...                     0\n",
              "4  5099  ...                     0\n",
              "7  5203  ...                     0\n",
              "\n",
              "[5 rows x 18 columns]"
            ]
          },
          "metadata": {
            "tags": []
          }
        }
      ]
    },
    {
      "cell_type": "code",
      "metadata": {
        "id": "MmlsIDbTm23P",
        "colab_type": "code",
        "outputId": "5ab97809-eb66-4c28-a62a-44d8a8fb5a64",
        "colab": {
          "base_uri": "https://localhost:8080/",
          "height": 171
        }
      },
      "source": [
        "# correlation matrix between the variables of interest\n",
        "corr = df_clean[['minimum_nights', 'room_type_Entire home/apt', 'room_type_Private room', 'room_type_Shared room']].corr()\n",
        "\n",
        "# display correlation matrix\n",
        "display(corr)"
      ],
      "execution_count": 0,
      "outputs": [
        {
          "output_type": "display_data",
          "data": {
            "text/html": [
              "<div>\n",
              "<style scoped>\n",
              "    .dataframe tbody tr th:only-of-type {\n",
              "        vertical-align: middle;\n",
              "    }\n",
              "\n",
              "    .dataframe tbody tr th {\n",
              "        vertical-align: top;\n",
              "    }\n",
              "\n",
              "    .dataframe thead th {\n",
              "        text-align: right;\n",
              "    }\n",
              "</style>\n",
              "<table border=\"1\" class=\"dataframe\">\n",
              "  <thead>\n",
              "    <tr style=\"text-align: right;\">\n",
              "      <th></th>\n",
              "      <th>minimum_nights</th>\n",
              "      <th>room_type_Entire home/apt</th>\n",
              "      <th>room_type_Private room</th>\n",
              "      <th>room_type_Shared room</th>\n",
              "    </tr>\n",
              "  </thead>\n",
              "  <tbody>\n",
              "    <tr>\n",
              "      <th>minimum_nights</th>\n",
              "      <td>1.000000</td>\n",
              "      <td>0.095155</td>\n",
              "      <td>-0.094158</td>\n",
              "      <td>-0.003475</td>\n",
              "    </tr>\n",
              "    <tr>\n",
              "      <th>room_type_Entire home/apt</th>\n",
              "      <td>0.095155</td>\n",
              "      <td>1.000000</td>\n",
              "      <td>-0.952535</td>\n",
              "      <td>-0.156515</td>\n",
              "    </tr>\n",
              "    <tr>\n",
              "      <th>room_type_Private room</th>\n",
              "      <td>-0.094158</td>\n",
              "      <td>-0.952535</td>\n",
              "      <td>1.000000</td>\n",
              "      <td>-0.151592</td>\n",
              "    </tr>\n",
              "    <tr>\n",
              "      <th>room_type_Shared room</th>\n",
              "      <td>-0.003475</td>\n",
              "      <td>-0.156515</td>\n",
              "      <td>-0.151592</td>\n",
              "      <td>1.000000</td>\n",
              "    </tr>\n",
              "  </tbody>\n",
              "</table>\n",
              "</div>"
            ],
            "text/plain": [
              "                           minimum_nights  ...  room_type_Shared room\n",
              "minimum_nights                   1.000000  ...              -0.003475\n",
              "room_type_Entire home/apt        0.095155  ...              -0.156515\n",
              "room_type_Private room          -0.094158  ...              -0.151592\n",
              "room_type_Shared room           -0.003475  ...               1.000000\n",
              "\n",
              "[4 rows x 4 columns]"
            ]
          },
          "metadata": {
            "tags": []
          }
        }
      ]
    },
    {
      "cell_type": "markdown",
      "metadata": {
        "id": "6K2G1AK4n9WI",
        "colab_type": "text"
      },
      "source": [
        "#### The matrix above shows us that there is a correlation between the type of room and the number of minimum nights.\n",
        "\n",
        "This supports our theory that the law on number of nights has an effect on Airbnb Listings, and that the minimum number of nights to rent out entire properties is higher than the one for only a room."
      ]
    },
    {
      "cell_type": "markdown",
      "metadata": {
        "id": "GkvAg623RjoR",
        "colab_type": "text"
      },
      "source": [
        "## Conclusions\n"
      ]
    },
    {
      "cell_type": "markdown",
      "metadata": {
        "id": "rbZ3Hsy9Ypw8",
        "colab_type": "text"
      },
      "source": [
        "### This was just a superficial analysis on a summarized dataset made available by Airbnb on New York City. Our analysis can help us get to some coclusions:\n",
        "* The closer you are to Midtown, and the Lower Manhattan Area, the more expensive it gets.\n",
        "* The average price for an Airbnb in New York City is US$ 126.16 per night\n",
        "* The average minimum number of nights you need to get in a New York City listing is 4.6\n",
        "* There is a correlation between the minimum number of nights and the type of room listed.\n",
        "* Despite the law regarding the minimum number of nights to rent an entire house/apartment i New York City, this is still the most common listing for the city. "
      ]
    },
    {
      "cell_type": "markdown",
      "metadata": {
        "id": "yPlGjpbgpL5Z",
        "colab_type": "text"
      },
      "source": [
        "# Thank you!\n",
        "\n",
        "#### Thank you reading my project. If you have found any other insights in this dataset, or have any kind of feedback, please, let me know!\n",
        "\n",
        "#### Also, feel free to share, modify, translate, or do whatever you need to improve this notebook!\n",
        "\n",
        "#### Rafael Duarte"
      ]
    },
    {
      "cell_type": "code",
      "metadata": {
        "id": "IEWas1_ipqYW",
        "colab_type": "code",
        "colab": {}
      },
      "source": [
        ""
      ],
      "execution_count": 0,
      "outputs": []
    }
  ]
}